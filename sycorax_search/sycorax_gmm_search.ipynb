{
 "cells": [
  {
   "cell_type": "code",
   "execution_count": 1,
   "id": "c874b10b",
   "metadata": {},
   "outputs": [],
   "source": [
    "## import necessary modules\n",
    "\n",
    "import os\n",
    "import numpy as np\n",
    "import pandas as pd\n",
    "from sklearn.preprocessing import MinMaxScaler"
   ]
  },
  {
   "cell_type": "code",
   "execution_count": 2,
   "id": "2f50c7c6",
   "metadata": {},
   "outputs": [],
   "source": [
    "## load in the data, created using prep_csv.py\n",
    "infile_name = 'LSST_sim.csv'\n",
    "df = pd.read_csv(infile_name)"
   ]
  },
  {
   "cell_type": "code",
   "execution_count": 9,
   "id": "f8040b6e",
   "metadata": {},
   "outputs": [],
   "source": [
    "## normalize the data, following a process based on Brian's data_loader\n",
    "\n",
    "# select fields of interest\n",
    "subspace = [\"a*\", \"i-z\", \"a\", \"sini\", \"e\", \"v-vk\", \"diffv/r\"]\n",
    "df_subset = df[subspace]\n",
    "df_subset = df_subset.dropna()\n",
    "\n",
    "\n",
    "# normalize the data so that values fall in a range from 0-1\n",
    "scaler = MinMaxScaler()\n",
    "scaler.fit(df_subset.to_numpy())\n",
    "norm_data = scaler.fit_transform(df_subset.to_numpy())"
   ]
  },
  {
   "cell_type": "code",
   "execution_count": null,
   "id": "52fd6eaf",
   "metadata": {},
   "outputs": [],
   "source": [
    "## This section directly utilizes code from Brian's reconstruction.ipynb file\n",
    "## create an instance of AnomalyGenerator class\n",
    "anom_gen = AnomalyGenerator()\n",
    "\n",
    "## predict the labels for the data samples in X using the trained model (? need to understand this part better) -MEW\n",
    "labels = anom_gen.model.predict(X)\n",
    "\n",
    "## add labels to the pandas dataframe as a new column -MEW\n",
    "df[\"labels\"] = labels\n",
    "\n",
    "## think the scores determined here indicate the confidence that each labelled group represents \n",
    "## a real group (if that makes sense -- may be off base on this / need to understand this better) -MEW\n",
    "df[\"label_scores\"] = anom_gen.model.predict_proba(X).max(axis=1) # Scores of the labels in class - log-likelihood."
   ]
  }
 ],
 "metadata": {
  "kernelspec": {
   "display_name": "Python 3 (ipykernel)",
   "language": "python",
   "name": "python3"
  },
  "language_info": {
   "codemirror_mode": {
    "name": "ipython",
    "version": 3
   },
   "file_extension": ".py",
   "mimetype": "text/x-python",
   "name": "python",
   "nbconvert_exporter": "python",
   "pygments_lexer": "ipython3",
   "version": "3.11.9"
  }
 },
 "nbformat": 4,
 "nbformat_minor": 5
}
