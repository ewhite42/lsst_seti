{
 "cells": [
  {
   "cell_type": "code",
   "execution_count": 4,
   "id": "8ad8217f-0a78-4e43-a802-7ef2da5ab099",
   "metadata": {},
   "outputs": [],
   "source": [
    "import numpy as np\n",
    "import bigjson\n",
    "import pandas as pd\n",
    "import gc\n",
    "\n",
    "from mpc_preprocessing import read_mpcorb\n",
    "from mpc_preprocessing import read_MPCephem"
   ]
  },
  {
   "cell_type": "code",
   "execution_count": null,
   "id": "698b115e-65de-456b-80b6-bcdb43116838",
   "metadata": {},
   "outputs": [],
   "source": [
    "mpc_fname = '/home/ellie/Downloads/mpcorb_extended.json'\n",
    "\n",
    "num_rows = 10000\n",
    "\n",
    "for k in range(50):\n",
    "    out_fname = '/home/ellie/research/lsst/mpcorb_extended_pt{}.csv'.format(k)\n",
    "    mpcorb_df = read_mpcorb(mpc_fname, numrows=num_rows, start_idx=k*num_rows)\n",
    "    nums = mpcorb_df['Number'].tolist()\n",
    "    ephemerides_df = read_MPCephem(nums)\n",
    "    df = pd.merge(mpcorb_df, ephemerides_df, on='Number')\n",
    "    df.to_csv(out_fname)\n",
    "\n",
    "    print(df.head)    \n",
    "\n",
    "    del df\n",
    "    del mpcorb_df\n",
    "    del ephemerides_df\n",
    "    gc.collect()"
   ]
  }
 ],
 "metadata": {
  "kernelspec": {
   "display_name": "Python 3 (ipykernel)",
   "language": "python",
   "name": "python3"
  },
  "language_info": {
   "codemirror_mode": {
    "name": "ipython",
    "version": 3
   },
   "file_extension": ".py",
   "mimetype": "text/x-python",
   "name": "python",
   "nbconvert_exporter": "python",
   "pygments_lexer": "ipython3",
   "version": "3.13.5"
  }
 },
 "nbformat": 4,
 "nbformat_minor": 5
}
