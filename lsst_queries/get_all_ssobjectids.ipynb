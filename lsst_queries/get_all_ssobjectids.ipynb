{
 "cells": [
  {
   "cell_type": "code",
   "execution_count": 2,
   "id": "fa8e3ad2-7d31-4e81-8510-1905551369f7",
   "metadata": {
    "execution": {
     "iopub.execute_input": "2025-06-13T00:35:58.838788Z",
     "iopub.status.busy": "2025-06-13T00:35:58.838487Z",
     "iopub.status.idle": "2025-06-13T00:41:46.834097Z",
     "shell.execute_reply": "2025-06-13T00:41:46.833520Z",
     "shell.execute_reply.started": "2025-06-13T00:35:58.838765Z"
    }
   },
   "outputs": [
    {
     "data": {
      "text/plain": [
       "<DALResultsTable length=4443479>\n",
       "     ssObjectId     \n",
       "       int64        \n",
       "--------------------\n",
       "-9223370383071521539\n",
       "-9223366535898786459\n",
       "-9223365099512229794\n",
       "-9223364443532342230\n",
       "-9223361410996246632\n",
       "-9223354132337021199\n",
       "-9223352335202182781\n",
       "-9223351106075435288\n",
       "-9223343361837155588\n",
       "                 ...\n",
       " 9223333118972405713\n",
       " 9223337017087558055\n",
       " 9223345276844401162\n",
       " 9223346423002359784\n",
       " 9223352613567217422\n",
       " 9223353272167950944\n",
       " 9223364740177399476\n",
       " 9223365960393921544\n",
       " 9223366833108713925\n",
       " 9223370430250665087"
      ]
     },
     "execution_count": 2,
     "metadata": {},
     "output_type": "execute_result"
    }
   ],
   "source": [
    "import pandas as pd\n",
    "from lsst.rsp import get_tap_service\n",
    "\n",
    "service = get_tap_service(\"ssotap\")\n",
    "\n",
    "query_ssObjectIds = \"SELECT DISTINCT sso.ssObjectId FROM dp03_catalogs_10yr.SSObject AS sso\"\n",
    "\n",
    "ssObjectIds = service.search(query_ssObjectIds)\n",
    "ssObjectIds"
   ]
  },
  {
   "cell_type": "code",
   "execution_count": 3,
   "id": "b69c5dbe-49d0-44f8-842c-ae577ecdc628",
   "metadata": {
    "execution": {
     "iopub.execute_input": "2025-06-13T00:44:22.654817Z",
     "iopub.status.busy": "2025-06-13T00:44:22.654010Z",
     "iopub.status.idle": "2025-06-13T00:45:05.177439Z",
     "shell.execute_reply": "2025-06-13T00:45:05.176699Z",
     "shell.execute_reply.started": "2025-06-13T00:44:22.654782Z"
    }
   },
   "outputs": [],
   "source": [
    "data = {'ssObjectIds': ssObjectIds}\n",
    "df = pd.DataFrame(data)\n",
    "df.to_csv('ssObjectIds.csv')"
   ]
  },
  {
   "cell_type": "code",
   "execution_count": 42,
   "id": "2a942be7-fd61-4b2b-8899-373403bc0571",
   "metadata": {
    "execution": {
     "iopub.execute_input": "2025-06-10T13:29:28.389336Z",
     "iopub.status.busy": "2025-06-10T13:29:28.388042Z",
     "iopub.status.idle": "2025-06-10T13:29:28.395400Z",
     "shell.execute_reply": "2025-06-10T13:29:28.394326Z",
     "shell.execute_reply.started": "2025-06-10T13:29:28.389285Z"
    }
   },
   "outputs": [
    {
     "name": "stdout",
     "output_type": "stream",
     "text": [
      "Number of object IDs: 4443479\n",
      "Number of iterations: 10\n"
     ]
    }
   ],
   "source": [
    "num_ids = len(df)\n",
    "iter_size = 50000\n",
    "num_iter = 100 #int(num_ids/iter_size) + 1\n",
    "print(\"Number of object IDs: \"+str(num_ids))\n",
    "print(\"Number of iterations: \"+str(num_iter))"
   ]
  },
  {
   "cell_type": "code",
   "execution_count": 43,
   "id": "ba9afafe-25dc-45b7-a883-90a34d85721a",
   "metadata": {
    "execution": {
     "iopub.execute_input": "2025-06-10T13:30:33.693659Z",
     "iopub.status.busy": "2025-06-10T13:30:33.693147Z",
     "iopub.status.idle": "2025-06-10T15:16:22.742714Z",
     "shell.execute_reply": "2025-06-10T15:16:22.741657Z",
     "shell.execute_reply.started": "2025-06-10T13:30:33.693616Z"
    }
   },
   "outputs": [
    {
     "name": "stdout",
     "output_type": "stream",
     "text": [
      "just finished the 0th iteration\n",
      "just finished the 1th iteration\n",
      "just finished the 2th iteration\n",
      "just finished the 3th iteration\n",
      "just finished the 4th iteration\n",
      "just finished the 5th iteration\n",
      "just finished the 6th iteration\n",
      "just finished the 7th iteration\n",
      "Reached the end\n",
      "                 ssObjectId      min_diaSourceId fullDesignation       incl  \\\n",
      "0       7379422925054239185 -9215685903882478929  2011 S100CXiSa   8.884670   \n",
      "1       7379423487943011983 -8679690379402301655  2011 S0000s0na   7.989721   \n",
      "2       7379423914542945358 -8902464937402071432  2011 S100TxA9a  14.962840   \n",
      "3       7379424494384829620 -9086920484863484594   2011 2009 KC4   7.396470   \n",
      "4       7379425521487385428 -9196990815613587783  2011 S1008mgka   7.725190   \n",
      "...                     ...                  ...             ...        ...   \n",
      "444358  9223352613567217422 -9056497399985485806  2011 2002 VP26   2.125300   \n",
      "444359  9223353272167950944 -9203810900853160883  2011 S101y1kEa  14.906890   \n",
      "444360  9223364740177399476 -8280027236746438280  2011 S100MrLqa  10.870650   \n",
      "444361  9223365960393921544 -8702112876345829586  2011 S100Ulqwa  13.681640   \n",
      "444362  9223366833108713925 -9004371811499463745  2011 S101CtVya   7.322840   \n",
      "\n",
      "               e         q        node        peri       mpcH        g_H  \\\n",
      "0       0.089465  2.517972  284.267350  186.932309  18.379999  19.085024   \n",
      "1       0.780005  0.738444  231.153571   71.857735  23.832001  22.807734   \n",
      "2       0.106509  2.380242  335.522710   38.440868  19.549999        NaN   \n",
      "3       0.124920  1.991402   69.728220  236.576417  17.360001  18.086737   \n",
      "4       0.108408  2.807269   92.973500   93.096852  16.340000  16.887720   \n",
      "...          ...       ...         ...         ...        ...        ...   \n",
      "444358  0.224228  1.823197  258.490090  141.980460  17.879999  18.599514   \n",
      "444359  0.149044  2.222117  142.437520  180.453683  20.670000  21.202513   \n",
      "444360  0.214568  2.503639  175.290640  203.814279  19.510000        NaN   \n",
      "444361  0.124147  2.283488  162.045160  151.935123  20.379999        NaN   \n",
      "444362  0.075326  2.198481   75.734740  105.467387  20.299999  20.889555   \n",
      "\n",
      "              r_H        i_H        z_H  u_H  y_H  heliocentricDist  \\\n",
      "0       18.439205  18.228712  18.342751  NaN  NaN          2.561485   \n",
      "1       25.064972  22.713043  36.330471  NaN  NaN          5.085008   \n",
      "2       19.795834  19.369562        NaN  NaN  NaN          2.879468   \n",
      "3       17.443073  17.241501  17.299828  NaN  NaN          2.281481   \n",
      "4       16.414038  16.292307  16.292177  NaN  NaN          3.339062   \n",
      "...           ...        ...        ...  ...  ...               ...   \n",
      "444358  17.949776  17.758282  17.813639  NaN  NaN          2.043119   \n",
      "444359  20.842056  20.879049        NaN  NaN  NaN          2.313336   \n",
      "444360  19.690981  19.321697        NaN  NaN  NaN          2.529644   \n",
      "444361  20.351301  20.545135        NaN  NaN  NaN          2.446747   \n",
      "444362  20.384977  20.312166        NaN  NaN  NaN          2.556733   \n",
      "\n",
      "        heliocentricVX  heliocentricVY  heliocentricVZ  \n",
      "0            -0.010823        0.002599       -0.000573  \n",
      "1             0.000393       -0.005064       -0.001639  \n",
      "2            -0.004477       -0.006590       -0.005585  \n",
      "3             0.006564       -0.007975       -0.004781  \n",
      "4            -0.008580        0.002249        0.002236  \n",
      "...                ...             ...             ...  \n",
      "444358        0.003214        0.011360        0.004952  \n",
      "444359       -0.000780        0.011649        0.002506  \n",
      "444360        0.001151        0.011529        0.002543  \n",
      "444361       -0.002783        0.010774        0.002191  \n",
      "444362       -0.004096        0.008367        0.004515  \n",
      "\n",
      "[444363 rows x 19 columns]\n"
     ]
    }
   ],
   "source": [
    "start_idx = 3998995\n",
    "df_results = pd.DataFrame()\n",
    "\n",
    "for i in range(num_iter):\n",
    "    end_idx = start_idx+iter_size\n",
    "    if end_idx > num_ids:\n",
    "        id_list = \"(\" + \", \".join(str(value1) for value1 in ssObjectIds['ssObjectId'][start_idx:-1]) + \")\"\n",
    "        query1 = \"\"\"SELECT sso.ssObjectId, MIN(sss.diaSourceId) AS min_diaSourceId\n",
    "                    FROM dp03_catalogs_10yr.SSObject AS sso\n",
    "                    JOIN dp03_catalogs_10yr.SSSource AS sss ON sso.ssObjectId = sss.ssObjectId\n",
    "                    WHERE sso.ssObjectId IN {}\n",
    "                    GROUP BY sso.ssObjectId\n",
    "                    ORDER BY sso.ssObjectId ASC\"\"\".format(id_list)\n",
    "   \n",
    "        results1 = service.search(query1)\n",
    "\n",
    "        string_list = \"(\" + \", \".join(str(value) for value in results1['min_diaSourceId']) + \")\"\n",
    "\n",
    "        query2 = \"\"\"SELECT mpc.ssObjectId, sss.diaSourceId AS min_diaSourceId,\n",
    "                    mpc.fullDesignation, mpc.incl, mpc.e, mpc.q, mpc.node, \n",
    "                    mpc.peri, mpc.mpcH, sso.g_H, sso.r_H, sso.i_H, sso.z_H, sso.u_H, sso.y_H, \n",
    "                    sss.heliocentricDist, sss.heliocentricVX, sss.heliocentricVY, sss.heliocentricVZ\n",
    "                    FROM dp03_catalogs_10yr.MPCORB AS mpc\n",
    "                    JOIN dp03_catalogs_10yr.SSObject AS sso ON mpc.ssObjectId = sso.ssObjectId\n",
    "                    JOIN dp03_catalogs_10yr.SSSource AS sss ON mpc.ssObjectId = sss.ssObjectId\n",
    "                    WHERE sss.diaSourceId IN {}\n",
    "                    ORDER BY mpc.ssObjectId ASC\"\"\".format(string_list)\n",
    "\n",
    "        results2 = service.search(query2)\n",
    "        results2_astropy = results2.to_table()\n",
    "        df_results2 = results2_astropy.to_pandas()\n",
    "        df_results = pd.concat([df_results, df_results2], ignore_index=True)\n",
    "        start_idx = end_idx\n",
    "        print(\"Reached the end\")\n",
    "        break\n",
    "    \n",
    "    id_list = \"(\" + \", \".join(str(value1) for value1 in ssObjectIds['ssObjectId'][start_idx:end_idx]) + \")\"\n",
    "    query1 = \"\"\"SELECT sso.ssObjectId, MIN(sss.diaSourceId) AS min_diaSourceId\n",
    "                FROM dp03_catalogs_10yr.SSObject AS sso\n",
    "                JOIN dp03_catalogs_10yr.SSSource AS sss ON sso.ssObjectId = sss.ssObjectId\n",
    "                WHERE sso.ssObjectId IN {}\n",
    "                GROUP BY sso.ssObjectId\n",
    "                ORDER BY sso.ssObjectId ASC\"\"\".format(id_list)\n",
    "   \n",
    "    results1 = service.search(query1)\n",
    "\n",
    "    string_list = \"(\" + \", \".join(str(value) for value in results1['min_diaSourceId']) + \")\"\n",
    "\n",
    "    query2 = \"\"\"SELECT mpc.ssObjectId, sss.diaSourceId AS min_diaSourceId,\n",
    "                mpc.fullDesignation, mpc.incl, mpc.e, mpc.q, mpc.node, \n",
    "                mpc.peri, mpc.mpcH, sso.g_H, sso.r_H, sso.i_H, sso.z_H, sso.u_H, sso.y_H, \n",
    "                sss.heliocentricDist, sss.heliocentricVX, sss.heliocentricVY, sss.heliocentricVZ\n",
    "                FROM dp03_catalogs_10yr.MPCORB AS mpc\n",
    "                JOIN dp03_catalogs_10yr.SSObject AS sso ON mpc.ssObjectId = sso.ssObjectId\n",
    "                JOIN dp03_catalogs_10yr.SSSource AS sss ON mpc.ssObjectId = sss.ssObjectId\n",
    "                WHERE sss.diaSourceId IN {}\n",
    "                ORDER BY mpc.ssObjectId ASC\"\"\".format(string_list)\n",
    "    \n",
    "    results2 = service.search(query2)\n",
    "    results2_astropy = results2.to_table()\n",
    "    df_results2 = results2_astropy.to_pandas()\n",
    "    df_results = pd.concat([df_results, df_results2], ignore_index=True)\n",
    "    \n",
    "    start_idx = end_idx\n",
    "    print(\"just finished the {}th iteration\".format(i))\n",
    "\n",
    "print(df_results)\n",
    "df_results.to_csv('All_Objects_3998995-4.4M.csv')"
   ]
  },
  {
   "cell_type": "code",
   "execution_count": null,
   "id": "422e7b0e-f25f-4df3-8264-c09a40dc2321",
   "metadata": {},
   "outputs": [],
   "source": []
  }
 ],
 "metadata": {
  "kernelspec": {
   "display_name": "LSST",
   "language": "python",
   "name": "lsst"
  },
  "language_info": {
   "codemirror_mode": {
    "name": "ipython",
    "version": 3
   },
   "file_extension": ".py",
   "mimetype": "text/x-python",
   "name": "python",
   "nbconvert_exporter": "python",
   "pygments_lexer": "ipython3",
   "version": "3.12.10"
  }
 },
 "nbformat": 4,
 "nbformat_minor": 5
}
