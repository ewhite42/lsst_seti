{
 "cells": [
  {
   "cell_type": "code",
   "execution_count": 1,
   "id": "6d78e967-a71f-4b0c-897a-aa9ee5f526ac",
   "metadata": {},
   "outputs": [],
   "source": [
    "import pylab as plt\n",
    "import pandas as pd"
   ]
  },
  {
   "cell_type": "code",
   "execution_count": 3,
   "id": "4a6d93a0-aca6-4e1c-b7ea-b02a068bc532",
   "metadata": {},
   "outputs": [
    {
     "name": "stdout",
     "output_type": "stream",
     "text": [
      "     Unnamed: 0 designation                                     url model  \\\n",
      "0             0   C/1885 X1  orbit.php?&int=1885x1n1&orb=osculating    n1   \n",
      "1             1   C/1885 X2  orbit.php?&int=1885x2n5&orb=osculating    n5   \n",
      "2             4   C/1892 Q1  orbit.php?&int=1892q1n1&orb=osculating    n1   \n",
      "3             5   C/1895 W1  orbit.php?&int=1895w1n1&orb=osculating    n1   \n",
      "4             6   C/1896 V1  orbit.php?&int=1896v1n2&orb=osculating    n2   \n",
      "..          ...         ...                                     ...   ...   \n",
      "123         303   C/2020 N1  orbit.php?&int=2020n1n5&orb=osculating    n5   \n",
      "124         304   C/2020 O2  orbit.php?&int=2020o2pc&orb=osculating    pc   \n",
      "125         305   C/2020 R7  orbit.php?&int=2020r7pn&orb=osculating    pn   \n",
      "126         306   C/2020 S4  orbit.php?&int=2020s4ps&orb=osculating    ps   \n",
      "127         309   C/2020 V2  orbit.php?&int=2020v2ec&orb=osculating    ec   \n",
      "\n",
      "          name class  observations  \\\n",
      "0        Fabry   42a           217   \n",
      "1      Barnard   42a           677   \n",
      "2       Brooks   42a           187   \n",
      "3      Perrine   42a           103   \n",
      "4      Perrine   42a           186   \n",
      "..         ...   ...           ...   \n",
      "123  PanSTARRS   31b           915   \n",
      "124     Amaral   21a          1604   \n",
      "125      ATLAS   21a          1601   \n",
      "126  PanSTARRS   21a          1820   \n",
      "127        ZTF  11a+          4546   \n",
      "\n",
      "                                         date interval       epoch  \\\n",
      "0    1885 12 01                  –\\n               ...  1886 04 04   \n",
      "1    1885 12 04                  –\\n               ...  1886 05 14   \n",
      "2    1892 09 01                  –\\n               ...  1893 01 17   \n",
      "3    1895 11 18                  –\\n               ...  1896 01 02   \n",
      "4    1896 11 03                  –\\n               ...  1897 02 05   \n",
      "..                                                 ...         ...   \n",
      "123  2020 07 01                  –\\n               ...  2021 03 07   \n",
      "124  2020 07 23                  –\\n               ...  2021 08 14   \n",
      "125  2019 12 03                  –\\n               ...  2022 09 18   \n",
      "126  2020 09 16                  –\\n               ...  2023 02 25   \n",
      "127  2020 04 18                  –\\n               ...  2023 05 16   \n",
      "\n",
      "              T[TT]   q[au]         e  omega [deg]  ohm [deg]   i[deg]  \\\n",
      "0    1886 04 06.454  0.6424  1.000273      126.588     37.963   82.629   \n",
      "1    1886 05 03.784  0.4792  1.000095      119.619     69.909   84.439   \n",
      "2    1892 12 28.587  0.9760  1.000304      252.651    266.034   24.801   \n",
      "3    1895 12 18.829  0.1920  1.000044      272.666    321.954  141.626   \n",
      "4    1897 02 08.604  1.0628  1.001022      172.341     87.934  146.137   \n",
      "..              ...     ...       ...          ...        ...      ...   \n",
      "123  2021 03 12.224  1.3207  1.000657      186.769    279.981   29.704   \n",
      "124  2021 08 28.481  4.8622  1.002463       10.292    256.756   71.748   \n",
      "125  2022 09 16.182  2.9561  1.000247      347.822    268.281  114.892   \n",
      "126  2023 02 09.203  3.3698  1.001196       20.983    117.722   20.570   \n",
      "127  2023 05 08.558  2.2279  1.001100      162.426    212.371  131.612   \n",
      "\n",
      "        1/a  nongrav bool  A1 [10-8au/day2]  A2 [10-8au/day2]  \\\n",
      "0   -425.22          True           2.33660          -0.28794   \n",
      "1   -198.60          True           1.72800          -0.71861   \n",
      "2   -311.72          True           2.77870           0.19945   \n",
      "3   -229.73          True           0.48100           0.32188   \n",
      "4   -961.12          True          -2.03900           1.56780   \n",
      "..      ...           ...               ...               ...   \n",
      "123 -497.73          True          -0.74214           2.13540   \n",
      "124 -506.55          True           2.89250           1.44350   \n",
      "125  -83.39          True         899.81000         310.51000   \n",
      "126 -355.05          True           9.85490           0.97468   \n",
      "127 -493.90          True           1.72870          -0.28543   \n",
      "\n",
      "     A3 [10-8au/day2]  \n",
      "0            0.000000  \n",
      "1           -0.356420  \n",
      "2            0.000000  \n",
      "3            0.000000  \n",
      "4            0.000000  \n",
      "..                ...  \n",
      "123         -1.043900  \n",
      "124          1.415600  \n",
      "125        132.780000  \n",
      "126          1.956600  \n",
      "127         -0.063377  \n",
      "\n",
      "[128 rows x 20 columns]\n"
     ]
    }
   ],
   "source": [
    "## location of JPL Small Body database file\n",
    "sbdb_fname = '/home/ellie/research/lsst/sbdb_nongrav_data.csv'\n",
    "\n",
    "## location of CODE file\n",
    "code_fname = '/home/ellie/research/lsst/nongrav_accelerations.csv'\n",
    "\n",
    "df_sbdb = pd.read_csv(sbdb_fname)\n",
    "df_code = pd.read_csv(code_fname)\n",
    "\n",
    "print(df_code)"
   ]
  },
  {
   "cell_type": "code",
   "execution_count": null,
   "id": "f2b49c2f-e89d-473e-a695-625f32b14ea6",
   "metadata": {},
   "outputs": [],
   "source": [
    "## plot histograms\n",
    "\n",
    "nbins = 20\n",
    "\n",
    "plt.hist(df_sbdb['A1'])\n",
    "plt.hist(df_code['A1 [10-8au/day2]']/(10**(-8)))\n",
    "\n",
    "plt.show()"
   ]
  }
 ],
 "metadata": {
  "kernelspec": {
   "display_name": "Python 3 (ipykernel)",
   "language": "python",
   "name": "python3"
  },
  "language_info": {
   "codemirror_mode": {
    "name": "ipython",
    "version": 3
   },
   "file_extension": ".py",
   "mimetype": "text/x-python",
   "name": "python",
   "nbconvert_exporter": "python",
   "pygments_lexer": "ipython3",
   "version": "3.13.5"
  }
 },
 "nbformat": 4,
 "nbformat_minor": 5
}
